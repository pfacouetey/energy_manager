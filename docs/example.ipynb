{
 "cells": [
  {
   "cell_type": "markdown",
   "metadata": {},
   "source": [
    "# Example\n",
    "\n",
    "There are some steps on how to use `energy_manager` in any project:"
   ]
  },
  {
   "cell_type": "markdown",
   "metadata": {},
   "source": "## 1. Installation"
  },
  {
   "cell_type": "code",
   "metadata": {
    "ExecuteTime": {
     "end_time": "2024-12-26T18:24:40.998834Z",
     "start_time": "2024-12-26T18:24:40.991472Z"
    }
   },
   "source": "# %pip install energy_manager\n",
   "outputs": [],
   "execution_count": 1
  },
  {
   "metadata": {
    "ExecuteTime": {
     "end_time": "2024-12-26T18:24:41.051165Z",
     "start_time": "2024-12-26T18:24:41.046726Z"
    }
   },
   "cell_type": "code",
   "source": "",
   "outputs": [],
   "execution_count": null
  },
  {
   "cell_type": "markdown",
   "metadata": {},
   "source": "## 2. Imports"
  },
  {
   "cell_type": "code",
   "metadata": {
    "ExecuteTime": {
     "end_time": "2024-12-26T18:24:41.756411Z",
     "start_time": "2024-12-26T18:24:41.328370Z"
    }
   },
   "source": [
    "import os\n",
    "import seaborn as sns\n",
    "import matplotlib.pyplot as plt\n",
    "from energy_manager.classes.energy_manager import EnergyManager\n"
   ],
   "outputs": [],
   "execution_count": 2
  },
  {
   "metadata": {
    "ExecuteTime": {
     "end_time": "2024-12-26T18:24:41.766751Z",
     "start_time": "2024-12-26T18:24:41.765337Z"
    }
   },
   "cell_type": "code",
   "source": "",
   "outputs": [],
   "execution_count": null
  },
  {
   "metadata": {},
   "cell_type": "markdown",
   "source": "## 3. Explore the class EnergyManager"
  },
  {
   "cell_type": "code",
   "metadata": {
    "ExecuteTime": {
     "end_time": "2024-12-26T18:24:41.787274Z",
     "start_time": "2024-12-26T18:24:41.779175Z"
    }
   },
   "source": [
    "# You can explore the class EnergyManager\n",
    "help(EnergyManager)\n"
   ],
   "outputs": [
    {
     "name": "stdout",
     "output_type": "stream",
     "text": [
      "Help on class EnergyManager in module energy_manager.classes.energy_manager:\n",
      "\n",
      "class EnergyManager(builtins.object)\n",
      " |  EnergyManager(city_name: str, dpe_usage: float, temperature: float, openweathermap_api_key: str, insulation_factor: float = 1.0)\n",
      " |\n",
      " |  Manages energy consumption and calculates expenses based on provided parameters.\n",
      " |\n",
      " |  This class is designed to handle energy management by leveraging data like\n",
      " |  city name, average energy usage, temperature, and insulation factor. It interacts\n",
      " |  with external APIs to compute daily energy expenses, taking into consideration\n",
      " |  climatic and usage factors.\n",
      " |\n",
      " |  Attributes:\n",
      " |      _city_name (str): The name of the city for which energy expenses are calculated.\n",
      " |      _dpe_usage (float): The average energy usage (DPE - Diagnostic de Performance\n",
      " |          Énergétique) of the property in kWh/m².year.\n",
      " |      _temperature (float): The current temperature in the city, used for expense calculations.\n",
      " |      _openweathermap_api_key (str): API key for accessing OpenWeatherMap's forecast data.\n",
      " |      _insulation_factor (float): Adjustment factor accounting for the property's insulation\n",
      " |          efficiency. Defaults to 1.0, corresponding to standard insulation.\n",
      " |\n",
      " |  Methods defined here:\n",
      " |\n",
      " |  __init__(self, city_name: str, dpe_usage: float, temperature: float, openweathermap_api_key: str, insulation_factor: float = 1.0)\n",
      " |      Initialize self.  See help(type(self)) for accurate signature.\n",
      " |\n",
      " |  get_daily_expenses(self) -> pandas.core.frame.DataFrame\n",
      " |\n",
      " |  ----------------------------------------------------------------------\n",
      " |  Data descriptors defined here:\n",
      " |\n",
      " |  __dict__\n",
      " |      dictionary for instance variables\n",
      " |\n",
      " |  __weakref__\n",
      " |      list of weak references to the object\n",
      "\n"
     ]
    }
   ],
   "execution_count": 3
  },
  {
   "metadata": {
    "ExecuteTime": {
     "end_time": "2024-12-26T18:24:41.864871Z",
     "start_time": "2024-12-26T18:24:41.798792Z"
    }
   },
   "cell_type": "code",
   "source": "?? EnergyManager",
   "outputs": [],
   "execution_count": 4
  },
  {
   "metadata": {
    "ExecuteTime": {
     "end_time": "2024-12-26T18:24:41.911572Z",
     "start_time": "2024-12-26T18:24:41.907554Z"
    }
   },
   "cell_type": "code",
   "source": "",
   "outputs": [],
   "execution_count": null
  },
  {
   "cell_type": "markdown",
   "metadata": {},
   "source": [
    "## 2. Define mandatory parameters"
   ]
  },
  {
   "cell_type": "code",
   "metadata": {
    "ExecuteTime": {
     "end_time": "2024-12-26T18:24:41.926657Z",
     "start_time": "2024-12-26T18:24:41.923544Z"
    }
   },
   "source": [
    "user_city_name = \"Nangis\"\n",
    "openweathermap_api_key = os.getenv(\"OPEN_WEATHER_API_KEY\") # if you set your openweathermap api key as an environment variable\n",
    "user_temperature = 19.5\n",
    "user_dpe_usage = 1.5\n"
   ],
   "outputs": [],
   "execution_count": 5
  },
  {
   "metadata": {
    "ExecuteTime": {
     "end_time": "2024-12-26T18:24:41.957726Z",
     "start_time": "2024-12-26T18:24:41.954008Z"
    }
   },
   "cell_type": "code",
   "source": "",
   "outputs": [],
   "execution_count": null
  },
  {
   "cell_type": "markdown",
   "metadata": {},
   "source": [
    "## 3. Define optional parameters if you want"
   ]
  },
  {
   "metadata": {
    "ExecuteTime": {
     "end_time": "2024-12-26T18:24:41.966895Z",
     "start_time": "2024-12-26T18:24:41.962895Z"
    }
   },
   "cell_type": "code",
   "source": "user_insulation_factor = 1.5 # 1.0 is the default value set in the EnergyManager class\n",
   "outputs": [],
   "execution_count": 6
  },
  {
   "metadata": {
    "ExecuteTime": {
     "end_time": "2024-12-26T18:24:41.980783Z",
     "start_time": "2024-12-26T18:24:41.977236Z"
    }
   },
   "cell_type": "code",
   "source": "",
   "outputs": [],
   "execution_count": null
  },
  {
   "metadata": {},
   "cell_type": "markdown",
   "source": "## 4. Instantiate the class EnergyManager with your set of parameters"
  },
  {
   "metadata": {
    "ExecuteTime": {
     "end_time": "2024-12-26T18:24:46.029441Z",
     "start_time": "2024-12-26T18:24:41.990762Z"
    }
   },
   "cell_type": "code",
   "source": [
    "my_energy_manager = EnergyManager(\n",
    "    city_name=user_city_name,\n",
    "    openweathermap_api_key=openweathermap_api_key,\n",
    "    temperature=user_temperature,\n",
    "    dpe_usage=user_dpe_usage,\n",
    "    insulation_factor=user_insulation_factor,\n",
    ")\n",
    "\n",
    "daily_expenses_df = my_energy_manager.get_daily_expenses()\n"
   ],
   "outputs": [],
   "execution_count": 7
  },
  {
   "metadata": {
    "ExecuteTime": {
     "end_time": "2024-12-26T18:24:46.065565Z",
     "start_time": "2024-12-26T18:24:46.060642Z"
    }
   },
   "cell_type": "code",
   "source": "",
   "outputs": [],
   "execution_count": null
  },
  {
   "metadata": {},
   "cell_type": "markdown",
   "source": "## 5. Explore results of daily_expenses_df and do any manipulation you want"
  },
  {
   "metadata": {
    "ExecuteTime": {
     "end_time": "2024-12-26T18:24:46.102568Z",
     "start_time": "2024-12-26T18:24:46.086567Z"
    }
   },
   "cell_type": "code",
   "source": "daily_expenses_df.dtypes\n",
   "outputs": [
    {
     "data": {
      "text/plain": [
       "date_time              datetime64[ns]\n",
       "weather_description            object\n",
       "option_0                      float64\n",
       "option_1                      float64\n",
       "option_2                      float64\n",
       "option_3                      float64\n",
       "option_4                      float64\n",
       "building_type                  object\n",
       "dpe_class                      object\n",
       "dtype: object"
      ]
     },
     "execution_count": 8,
     "metadata": {},
     "output_type": "execute_result"
    }
   ],
   "execution_count": 8
  },
  {
   "cell_type": "code",
   "metadata": {
    "ExecuteTime": {
     "end_time": "2024-12-26T18:24:46.160915Z",
     "start_time": "2024-12-26T18:24:46.146467Z"
    }
   },
   "source": "daily_expenses_df[[\"date_time\", \"weather_description\", \"building_type\", \"dpe_class\", \"option_0\", \"option_3\"]].head()\n",
   "outputs": [
    {
     "data": {
      "text/plain": [
       "            date_time weather_description building_type dpe_class  option_0  \\\n",
       "0 2024-12-26 00:00:00           clear sky   Appartement         A  2.856924   \n",
       "1 2024-12-26 01:00:00           clear sky   Appartement         A  2.879039   \n",
       "2 2024-12-26 02:00:00           clear sky   Appartement         A  2.750367   \n",
       "3 2024-12-26 03:00:00          few clouds   Appartement         A  2.750367   \n",
       "4 2024-12-26 04:00:00          few clouds   Appartement         A  2.905176   \n",
       "\n",
       "   option_3  \n",
       "0  2.348219  \n",
       "1  2.366396  \n",
       "2  2.260636  \n",
       "3  2.260636  \n",
       "4  2.387879  "
      ],
      "text/html": [
       "<div>\n",
       "<style scoped>\n",
       "    .dataframe tbody tr th:only-of-type {\n",
       "        vertical-align: middle;\n",
       "    }\n",
       "\n",
       "    .dataframe tbody tr th {\n",
       "        vertical-align: top;\n",
       "    }\n",
       "\n",
       "    .dataframe thead th {\n",
       "        text-align: right;\n",
       "    }\n",
       "</style>\n",
       "<table border=\"1\" class=\"dataframe\">\n",
       "  <thead>\n",
       "    <tr style=\"text-align: right;\">\n",
       "      <th></th>\n",
       "      <th>date_time</th>\n",
       "      <th>weather_description</th>\n",
       "      <th>building_type</th>\n",
       "      <th>dpe_class</th>\n",
       "      <th>option_0</th>\n",
       "      <th>option_3</th>\n",
       "    </tr>\n",
       "  </thead>\n",
       "  <tbody>\n",
       "    <tr>\n",
       "      <th>0</th>\n",
       "      <td>2024-12-26 00:00:00</td>\n",
       "      <td>clear sky</td>\n",
       "      <td>Appartement</td>\n",
       "      <td>A</td>\n",
       "      <td>2.856924</td>\n",
       "      <td>2.348219</td>\n",
       "    </tr>\n",
       "    <tr>\n",
       "      <th>1</th>\n",
       "      <td>2024-12-26 01:00:00</td>\n",
       "      <td>clear sky</td>\n",
       "      <td>Appartement</td>\n",
       "      <td>A</td>\n",
       "      <td>2.879039</td>\n",
       "      <td>2.366396</td>\n",
       "    </tr>\n",
       "    <tr>\n",
       "      <th>2</th>\n",
       "      <td>2024-12-26 02:00:00</td>\n",
       "      <td>clear sky</td>\n",
       "      <td>Appartement</td>\n",
       "      <td>A</td>\n",
       "      <td>2.750367</td>\n",
       "      <td>2.260636</td>\n",
       "    </tr>\n",
       "    <tr>\n",
       "      <th>3</th>\n",
       "      <td>2024-12-26 03:00:00</td>\n",
       "      <td>few clouds</td>\n",
       "      <td>Appartement</td>\n",
       "      <td>A</td>\n",
       "      <td>2.750367</td>\n",
       "      <td>2.260636</td>\n",
       "    </tr>\n",
       "    <tr>\n",
       "      <th>4</th>\n",
       "      <td>2024-12-26 04:00:00</td>\n",
       "      <td>few clouds</td>\n",
       "      <td>Appartement</td>\n",
       "      <td>A</td>\n",
       "      <td>2.905176</td>\n",
       "      <td>2.387879</td>\n",
       "    </tr>\n",
       "  </tbody>\n",
       "</table>\n",
       "</div>"
      ]
     },
     "execution_count": 9,
     "metadata": {},
     "output_type": "execute_result"
    }
   ],
   "execution_count": 9
  },
  {
   "metadata": {
    "ExecuteTime": {
     "end_time": "2024-12-26T18:24:46.262395Z",
     "start_time": "2024-12-26T18:24:46.258585Z"
    }
   },
   "cell_type": "code",
   "source": "",
   "outputs": [],
   "execution_count": null
  },
  {
   "cell_type": "markdown",
   "metadata": {},
   "source": "## 6. Results meaning"
  },
  {
   "cell_type": "markdown",
   "metadata": {},
   "source": [
    "Columns option_0, option_1, ..., option_4 values are energy costs in euros per square meter."
   ]
  },
  {
   "cell_type": "markdown",
   "metadata": {},
   "source": [
    "Settings of these 5 options provided by ENEDIS for EDF consumers are such as :\n",
    "\n",
    "  - option_0 : energy price is the same at any hour of the day with a value of 25.16 euros/kwh;\n",
    "  - option_1, ..., option_4 : energy price during peak hour is 27 euros/Kwh and is 20.68 euros/Kwh during for off-peak hours.\n"
   ]
  },
  {
   "cell_type": "markdown",
   "metadata": {},
   "source": "The first row of df_daily_expenses means that for the day 2024-12-26 from 00:00:00 to 01:00:00, if your house is an \"Appartement\" and has a DPE (diagnostic de performance energetique) of class A, your estimated energy cost for the option_0 is approximately less than 3 euros per square meter for the desired temperature of 19.5 degrees Celsius."
  },
  {
   "cell_type": "code",
   "metadata": {
    "ExecuteTime": {
     "end_time": "2024-12-26T18:24:46.299217Z",
     "start_time": "2024-12-26T18:24:46.293517Z"
    }
   },
   "source": [
    "mask = (daily_expenses_df[\"building_type\"] == \"Appartement\") & (daily_expenses_df[\"dpe_class\"] == \"A\")\n",
    "new_df = daily_expenses_df[mask]\n"
   ],
   "outputs": [],
   "execution_count": 10
  },
  {
   "cell_type": "code",
   "metadata": {
    "ExecuteTime": {
     "end_time": "2024-12-26T18:24:46.391501Z",
     "start_time": "2024-12-26T18:24:46.380248Z"
    }
   },
   "source": "new_df[[\"date_time\", \"weather_description\", \"dpe_class\", \"option_0\", \"option_3\"]].head(n=10)\n",
   "outputs": [
    {
     "data": {
      "text/plain": [
       "            date_time weather_description dpe_class  option_0  option_3\n",
       "0 2024-12-26 00:00:00           clear sky         A  2.856924  2.348219\n",
       "1 2024-12-26 01:00:00           clear sky         A  2.879039  2.366396\n",
       "2 2024-12-26 02:00:00           clear sky         A  2.750367  2.260636\n",
       "3 2024-12-26 03:00:00          few clouds         A  2.750367  2.260636\n",
       "4 2024-12-26 04:00:00          few clouds         A  2.905176  2.387879\n",
       "5 2024-12-26 05:00:00          few clouds         A  2.953428  2.427539\n",
       "6 2024-12-26 06:00:00          few clouds         A  3.086121  2.536605\n",
       "7 2024-12-26 07:00:00    scattered clouds         A  3.090142  2.539910\n",
       "8 2024-12-26 08:00:00    scattered clouds         A  3.309287  3.551301\n",
       "9 2024-12-26 09:00:00    scattered clouds         A  2.971522  3.188836"
      ],
      "text/html": [
       "<div>\n",
       "<style scoped>\n",
       "    .dataframe tbody tr th:only-of-type {\n",
       "        vertical-align: middle;\n",
       "    }\n",
       "\n",
       "    .dataframe tbody tr th {\n",
       "        vertical-align: top;\n",
       "    }\n",
       "\n",
       "    .dataframe thead th {\n",
       "        text-align: right;\n",
       "    }\n",
       "</style>\n",
       "<table border=\"1\" class=\"dataframe\">\n",
       "  <thead>\n",
       "    <tr style=\"text-align: right;\">\n",
       "      <th></th>\n",
       "      <th>date_time</th>\n",
       "      <th>weather_description</th>\n",
       "      <th>dpe_class</th>\n",
       "      <th>option_0</th>\n",
       "      <th>option_3</th>\n",
       "    </tr>\n",
       "  </thead>\n",
       "  <tbody>\n",
       "    <tr>\n",
       "      <th>0</th>\n",
       "      <td>2024-12-26 00:00:00</td>\n",
       "      <td>clear sky</td>\n",
       "      <td>A</td>\n",
       "      <td>2.856924</td>\n",
       "      <td>2.348219</td>\n",
       "    </tr>\n",
       "    <tr>\n",
       "      <th>1</th>\n",
       "      <td>2024-12-26 01:00:00</td>\n",
       "      <td>clear sky</td>\n",
       "      <td>A</td>\n",
       "      <td>2.879039</td>\n",
       "      <td>2.366396</td>\n",
       "    </tr>\n",
       "    <tr>\n",
       "      <th>2</th>\n",
       "      <td>2024-12-26 02:00:00</td>\n",
       "      <td>clear sky</td>\n",
       "      <td>A</td>\n",
       "      <td>2.750367</td>\n",
       "      <td>2.260636</td>\n",
       "    </tr>\n",
       "    <tr>\n",
       "      <th>3</th>\n",
       "      <td>2024-12-26 03:00:00</td>\n",
       "      <td>few clouds</td>\n",
       "      <td>A</td>\n",
       "      <td>2.750367</td>\n",
       "      <td>2.260636</td>\n",
       "    </tr>\n",
       "    <tr>\n",
       "      <th>4</th>\n",
       "      <td>2024-12-26 04:00:00</td>\n",
       "      <td>few clouds</td>\n",
       "      <td>A</td>\n",
       "      <td>2.905176</td>\n",
       "      <td>2.387879</td>\n",
       "    </tr>\n",
       "    <tr>\n",
       "      <th>5</th>\n",
       "      <td>2024-12-26 05:00:00</td>\n",
       "      <td>few clouds</td>\n",
       "      <td>A</td>\n",
       "      <td>2.953428</td>\n",
       "      <td>2.427539</td>\n",
       "    </tr>\n",
       "    <tr>\n",
       "      <th>6</th>\n",
       "      <td>2024-12-26 06:00:00</td>\n",
       "      <td>few clouds</td>\n",
       "      <td>A</td>\n",
       "      <td>3.086121</td>\n",
       "      <td>2.536605</td>\n",
       "    </tr>\n",
       "    <tr>\n",
       "      <th>7</th>\n",
       "      <td>2024-12-26 07:00:00</td>\n",
       "      <td>scattered clouds</td>\n",
       "      <td>A</td>\n",
       "      <td>3.090142</td>\n",
       "      <td>2.539910</td>\n",
       "    </tr>\n",
       "    <tr>\n",
       "      <th>8</th>\n",
       "      <td>2024-12-26 08:00:00</td>\n",
       "      <td>scattered clouds</td>\n",
       "      <td>A</td>\n",
       "      <td>3.309287</td>\n",
       "      <td>3.551301</td>\n",
       "    </tr>\n",
       "    <tr>\n",
       "      <th>9</th>\n",
       "      <td>2024-12-26 09:00:00</td>\n",
       "      <td>scattered clouds</td>\n",
       "      <td>A</td>\n",
       "      <td>2.971522</td>\n",
       "      <td>3.188836</td>\n",
       "    </tr>\n",
       "  </tbody>\n",
       "</table>\n",
       "</div>"
      ]
     },
     "execution_count": 11,
     "metadata": {},
     "output_type": "execute_result"
    }
   ],
   "execution_count": 11
  },
  {
   "metadata": {
    "ExecuteTime": {
     "end_time": "2024-12-26T18:24:46.867336Z",
     "start_time": "2024-12-26T18:24:46.444332Z"
    }
   },
   "cell_type": "code",
   "source": [
    "plt.style.use('ggplot')\n",
    "fig, ax = plt.subplots(figsize=(12, 7), dpi=100)\n",
    "colors = sns.color_palette(\"husl\", 5)\n",
    "\n",
    "for i, option in enumerate([\"option_0\", \"option_1\", \"option_2\", \"option_3\", \"option_4\"]):\n",
    "    ax.step(new_df.date_time.dt.hour, new_df[option], where=\"post\", label=option,\n",
    "            linewidth=2, color=colors[i])\n",
    "\n",
    "ax.set_title(\"Energy Cost Over Time in Euros Per Square Meter\", fontsize=16, fontweight='bold', pad=20)\n",
    "ax.set_xlabel(\"Hour of the Day\", fontsize=12, labelpad=10)\n",
    "ax.set_ylabel(\"Energy Cost (€/m²)\", fontsize=12, labelpad=10)\n",
    "ax.set_xticks(range(0, 24, 2))\n",
    "ax.set_xlim(0, 23)\n",
    "ax.tick_params(axis='both', which='major', labelsize=10)\n",
    "ax.legend(title=\"Options\", title_fontsize='12', fontsize='10', loc='upper left', bbox_to_anchor=(1, 1))\n",
    "ax.grid(True, linestyle='--', alpha=0.7)\n",
    "\n",
    "plt.tight_layout()\n",
    "plt.show()\n"
   ],
   "outputs": [
    {
     "data": {
      "text/plain": [
       "<Figure size 1200x700 with 1 Axes>"
      ],
      "image/png": "[encoded data removed]"
     },
     "metadata": {},
     "output_type": "display_data"
    }
   ],
   "execution_count": 12
  },
  {
   "cell_type": "markdown",
   "metadata": {},
   "source": "##### _This could be an insight on how to choose your EDF energy contract based on your consumption hours._"
  },
  {
   "cell_type": "code",
   "metadata": {
    "ExecuteTime": {
     "end_time": "2024-12-26T18:24:46.911148Z",
     "start_time": "2024-12-26T18:24:46.908719Z"
    }
   },
   "source": [],
   "outputs": [],
   "execution_count": null
  }
 ],
 "metadata": {
  "kernelspec": {
   "display_name": "Python 3 (ipykernel)",
   "language": "python",
   "name": "python3"
  },
  "language_info": {
   "codemirror_mode": {
    "name": "ipython",
    "version": 3
   },
   "file_extension": ".py",
   "mimetype": "text/x-python",
   "name": "python",
   "nbconvert_exporter": "python",
   "pygments_lexer": "ipython3",
   "version": "3.12.7"
  }
 },
 "nbformat": 4,
 "nbformat_minor": 4
}
