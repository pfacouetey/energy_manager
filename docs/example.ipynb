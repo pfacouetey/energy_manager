{
 "cells": [
  {
   "metadata": {},
   "cell_type": "markdown",
   "source": [
    "# Example\n",
    "\n",
    "There are some steps on how to use `energy_manager` in any project:"
   ]
  },
  {
   "metadata": {},
   "cell_type": "markdown",
   "source": "## 1. Installation"
  },
  {
   "metadata": {
    "ExecuteTime": {
     "end_time": "2024-12-27T20:32:15.233070Z",
     "start_time": "2024-12-27T20:32:15.226908Z"
    }
   },
   "cell_type": "code",
   "source": "#%pip install energy_manager\n",
   "outputs": [],
   "execution_count": 1
  },
  {
   "metadata": {
    "ExecuteTime": {
     "end_time": "2024-12-27T20:32:15.269731Z",
     "start_time": "2024-12-27T20:32:15.265666Z"
    }
   },
   "cell_type": "code",
   "source": "",
   "outputs": [],
   "execution_count": null
  },
  {
   "metadata": {},
   "cell_type": "markdown",
   "source": "## 2. Imports"
  },
  {
   "metadata": {
    "ExecuteTime": {
     "end_time": "2024-12-27T20:32:16.029247Z",
     "start_time": "2024-12-27T20:32:15.578665Z"
    }
   },
   "cell_type": "code",
   "source": [
    "import os\n",
    "import seaborn as sns\n",
    "import matplotlib.pyplot as plt\n",
    "from energy_manager.classes.energy_manager import EnergyManager\n"
   ],
   "outputs": [],
   "execution_count": 2
  },
  {
   "metadata": {
    "ExecuteTime": {
     "end_time": "2024-12-27T20:32:16.045953Z",
     "start_time": "2024-12-27T20:32:16.037731Z"
    }
   },
   "cell_type": "code",
   "source": "",
   "outputs": [],
   "execution_count": null
  },
  {
   "metadata": {},
   "cell_type": "markdown",
   "source": "## 3. Explore the class EnergyManager"
  },
  {
   "metadata": {
    "ExecuteTime": {
     "end_time": "2024-12-27T20:32:16.087428Z",
     "start_time": "2024-12-27T20:32:16.081300Z"
    }
   },
   "cell_type": "code",
   "source": "help(EnergyManager)\n",
   "outputs": [
    {
     "name": "stdout",
     "output_type": "stream",
     "text": [
      "Help on class EnergyManager in module energy_manager.classes.energy_manager:\n",
      "\n",
      "class EnergyManager(builtins.object)\n",
      " |  EnergyManager(city_name: str, dpe_usage: float, temperature: float, openweathermap_api_key: str, insulation_factor: float = 1.0)\n",
      " |\n",
      " |  Manages energy consumption and calculates expenses based on provided parameters.\n",
      " |\n",
      " |  This class is designed to handle energy management by leveraging data like\n",
      " |  city name, average energy usage, temperature, and insulation factor. It interacts\n",
      " |  with external APIs to compute daily energy expenses, taking into consideration\n",
      " |  climatic and usage factors.\n",
      " |\n",
      " |  Attributes:\n",
      " |      _city_name (str): The name of the city for which energy expenses are calculated.\n",
      " |      _dpe_usage (float): The average energy usage (DPE - Diagnostic de Performance\n",
      " |          Énergétique) of the property in kWh/m².year.\n",
      " |      _temperature (float): The current temperature in the city, used for expense calculations.\n",
      " |      _openweathermap_api_key (str): API key for accessing OpenWeatherMap's forecast data.\n",
      " |      _insulation_factor (float): Adjustment factor accounting for the property's insulation\n",
      " |          efficiency. Defaults to 1.0, corresponding to standard insulation.\n",
      " |\n",
      " |  Methods defined here:\n",
      " |\n",
      " |  __init__(self, city_name: str, dpe_usage: float, temperature: float, openweathermap_api_key: str, insulation_factor: float = 1.0)\n",
      " |      Initialize self.  See help(type(self)) for accurate signature.\n",
      " |\n",
      " |  get_daily_expenses(self) -> pandas.core.frame.DataFrame\n",
      " |\n",
      " |  ----------------------------------------------------------------------\n",
      " |  Data descriptors defined here:\n",
      " |\n",
      " |  __dict__\n",
      " |      dictionary for instance variables\n",
      " |\n",
      " |  __weakref__\n",
      " |      list of weak references to the object\n",
      "\n"
     ]
    }
   ],
   "execution_count": 3
  },
  {
   "metadata": {
    "ExecuteTime": {
     "end_time": "2024-12-27T20:32:16.107813Z",
     "start_time": "2024-12-27T20:32:16.103689Z"
    }
   },
   "cell_type": "code",
   "source": "",
   "outputs": [],
   "execution_count": null
  },
  {
   "metadata": {},
   "cell_type": "markdown",
   "source": "## 2. Define mandatory parameters"
  },
  {
   "metadata": {
    "ExecuteTime": {
     "end_time": "2024-12-27T20:32:16.136550Z",
     "start_time": "2024-12-27T20:32:16.123540Z"
    }
   },
   "cell_type": "code",
   "source": [
    "user_city_name = \"Nangis\"\n",
    "openweathermap_api_key = os.getenv(\"OPEN_WEATHER_API_KEY\") # if you set your openweathermap api key as an environment variable\n",
    "user_temperature = 19.5\n",
    "user_dpe_usage = 1.5\n"
   ],
   "outputs": [],
   "execution_count": 4
  },
  {
   "metadata": {
    "ExecuteTime": {
     "end_time": "2024-12-27T20:32:16.172528Z",
     "start_time": "2024-12-27T20:32:16.168970Z"
    }
   },
   "cell_type": "code",
   "source": "",
   "outputs": [],
   "execution_count": null
  },
  {
   "metadata": {},
   "cell_type": "markdown",
   "source": "## 3. Define optional parameters if you want"
  },
  {
   "metadata": {
    "ExecuteTime": {
     "end_time": "2024-12-27T20:32:16.194914Z",
     "start_time": "2024-12-27T20:32:16.184819Z"
    }
   },
   "cell_type": "code",
   "source": "user_insulation_factor = 1.5 # 1.0 is the default value set in the EnergyManager class\n",
   "outputs": [],
   "execution_count": 5
  },
  {
   "metadata": {
    "ExecuteTime": {
     "end_time": "2024-12-27T20:32:16.230192Z",
     "start_time": "2024-12-27T20:32:16.226805Z"
    }
   },
   "cell_type": "code",
   "source": "",
   "outputs": [],
   "execution_count": null
  },
  {
   "metadata": {},
   "cell_type": "markdown",
   "source": "## 4. Instantiate the class EnergyManager with your set of parameters"
  },
  {
   "metadata": {
    "ExecuteTime": {
     "end_time": "2024-12-27T20:32:19.837095Z",
     "start_time": "2024-12-27T20:32:16.244209Z"
    }
   },
   "cell_type": "code",
   "source": [
    "my_energy_manager = EnergyManager(\n",
    "    city_name=user_city_name,\n",
    "    openweathermap_api_key=openweathermap_api_key,\n",
    "    temperature=user_temperature,\n",
    "    dpe_usage=user_dpe_usage,\n",
    "    insulation_factor=user_insulation_factor,\n",
    ")\n",
    "\n",
    "daily_expenses_df = my_energy_manager.get_daily_expenses()\n"
   ],
   "outputs": [],
   "execution_count": 6
  },
  {
   "metadata": {
    "ExecuteTime": {
     "end_time": "2024-12-27T20:32:19.874677Z",
     "start_time": "2024-12-27T20:32:19.869156Z"
    }
   },
   "cell_type": "code",
   "source": "",
   "outputs": [],
   "execution_count": null
  },
  {
   "metadata": {},
   "cell_type": "markdown",
   "source": "## 5. Explore results of daily_expenses_df and do any manipulation you want"
  },
  {
   "metadata": {
    "ExecuteTime": {
     "end_time": "2024-12-27T20:32:19.909185Z",
     "start_time": "2024-12-27T20:32:19.897677Z"
    }
   },
   "cell_type": "code",
   "source": "daily_expenses_df.dtypes\n",
   "outputs": [
    {
     "data": {
      "text/plain": [
       "date_time              datetime64[ns]\n",
       "weather_description            object\n",
       "option_0                      float64\n",
       "option_1                      float64\n",
       "option_2                      float64\n",
       "option_3                      float64\n",
       "option_4                      float64\n",
       "building_type                  object\n",
       "dpe_class                      object\n",
       "dtype: object"
      ]
     },
     "execution_count": 7,
     "metadata": {},
     "output_type": "execute_result"
    }
   ],
   "execution_count": 7
  },
  {
   "metadata": {
    "ExecuteTime": {
     "end_time": "2024-12-27T20:32:20.016199Z",
     "start_time": "2024-12-27T20:32:19.995053Z"
    }
   },
   "cell_type": "code",
   "source": "daily_expenses_df[[\"date_time\", \"weather_description\", \"building_type\", \"dpe_class\", \"option_0\", \"option_3\"]].head()\n",
   "outputs": [
    {
     "data": {
      "text/plain": [
       "            date_time weather_description building_type dpe_class  option_0  \\\n",
       "0 2024-12-27 00:00:00           clear sky   Appartement         A  3.755618   \n",
       "1 2024-12-27 01:00:00           clear sky   Appartement         A  3.866196   \n",
       "2 2024-12-27 02:00:00          few clouds   Appartement         A  3.689272   \n",
       "3 2024-12-27 03:00:00          few clouds   Appartement         A  3.723450   \n",
       "4 2024-12-27 04:00:00    scattered clouds   Appartement         A  3.761650   \n",
       "\n",
       "   option_3  \n",
       "0  3.086891  \n",
       "1  3.177779  \n",
       "2  3.032358  \n",
       "3  3.060451  \n",
       "4  3.091849  "
      ],
      "text/html": [
       "<div>\n",
       "<style scoped>\n",
       "    .dataframe tbody tr th:only-of-type {\n",
       "        vertical-align: middle;\n",
       "    }\n",
       "\n",
       "    .dataframe tbody tr th {\n",
       "        vertical-align: top;\n",
       "    }\n",
       "\n",
       "    .dataframe thead th {\n",
       "        text-align: right;\n",
       "    }\n",
       "</style>\n",
       "<table border=\"1\" class=\"dataframe\">\n",
       "  <thead>\n",
       "    <tr style=\"text-align: right;\">\n",
       "      <th></th>\n",
       "      <th>date_time</th>\n",
       "      <th>weather_description</th>\n",
       "      <th>building_type</th>\n",
       "      <th>dpe_class</th>\n",
       "      <th>option_0</th>\n",
       "      <th>option_3</th>\n",
       "    </tr>\n",
       "  </thead>\n",
       "  <tbody>\n",
       "    <tr>\n",
       "      <th>0</th>\n",
       "      <td>2024-12-27 00:00:00</td>\n",
       "      <td>clear sky</td>\n",
       "      <td>Appartement</td>\n",
       "      <td>A</td>\n",
       "      <td>3.755618</td>\n",
       "      <td>3.086891</td>\n",
       "    </tr>\n",
       "    <tr>\n",
       "      <th>1</th>\n",
       "      <td>2024-12-27 01:00:00</td>\n",
       "      <td>clear sky</td>\n",
       "      <td>Appartement</td>\n",
       "      <td>A</td>\n",
       "      <td>3.866196</td>\n",
       "      <td>3.177779</td>\n",
       "    </tr>\n",
       "    <tr>\n",
       "      <th>2</th>\n",
       "      <td>2024-12-27 02:00:00</td>\n",
       "      <td>few clouds</td>\n",
       "      <td>Appartement</td>\n",
       "      <td>A</td>\n",
       "      <td>3.689272</td>\n",
       "      <td>3.032358</td>\n",
       "    </tr>\n",
       "    <tr>\n",
       "      <th>3</th>\n",
       "      <td>2024-12-27 03:00:00</td>\n",
       "      <td>few clouds</td>\n",
       "      <td>Appartement</td>\n",
       "      <td>A</td>\n",
       "      <td>3.723450</td>\n",
       "      <td>3.060451</td>\n",
       "    </tr>\n",
       "    <tr>\n",
       "      <th>4</th>\n",
       "      <td>2024-12-27 04:00:00</td>\n",
       "      <td>scattered clouds</td>\n",
       "      <td>Appartement</td>\n",
       "      <td>A</td>\n",
       "      <td>3.761650</td>\n",
       "      <td>3.091849</td>\n",
       "    </tr>\n",
       "  </tbody>\n",
       "</table>\n",
       "</div>"
      ]
     },
     "execution_count": 8,
     "metadata": {},
     "output_type": "execute_result"
    }
   ],
   "execution_count": 8
  },
  {
   "metadata": {
    "ExecuteTime": {
     "end_time": "2024-12-27T20:32:20.088433Z",
     "start_time": "2024-12-27T20:32:20.086128Z"
    }
   },
   "cell_type": "code",
   "source": "",
   "outputs": [],
   "execution_count": null
  },
  {
   "metadata": {},
   "cell_type": "markdown",
   "source": "## 6. Results meaning"
  },
  {
   "metadata": {},
   "cell_type": "markdown",
   "source": "Columns option_0, option_1, ..., option_4 values are energy costs in euros per square meter."
  },
  {
   "metadata": {},
   "cell_type": "markdown",
   "source": [
    "Settings of these 5 options provided by ENEDIS for EDF consumers are such as :\n",
    "\n",
    "  - option_0 : energy price is the same at any hour of the day with a value of 25.16 euros/kwh;\n",
    "  - option_1, ..., option_4 : energy price during peak hour is 27 euros/Kwh and is 20.68 euros/Kwh during for off-peak hours.\n"
   ]
  },
  {
   "metadata": {},
   "cell_type": "markdown",
   "source": "The first row of df_daily_expenses means that for the day 2024-12-26 from 00:00:00 to 01:00:00, if your house is an \"Appartement\" and has a DPE (diagnostic de performance energetique) of class A, your estimated energy cost for the option_0 is approximately less than 3 euros per square meter for the desired temperature of 19.5 degrees Celsius."
  },
  {
   "metadata": {
    "ExecuteTime": {
     "end_time": "2024-12-27T20:32:20.146274Z",
     "start_time": "2024-12-27T20:32:20.141440Z"
    }
   },
   "cell_type": "code",
   "source": [
    "mask = (daily_expenses_df[\"building_type\"] == \"Appartement\") & (daily_expenses_df[\"dpe_class\"] == \"A\")\n",
    "new_df = daily_expenses_df[mask]\n"
   ],
   "outputs": [],
   "execution_count": 9
  },
  {
   "metadata": {
    "ExecuteTime": {
     "end_time": "2024-12-27T20:32:20.238510Z",
     "start_time": "2024-12-27T20:32:20.228031Z"
    }
   },
   "cell_type": "code",
   "source": "new_df[[\"date_time\", \"weather_description\", \"dpe_class\", \"option_0\", \"option_3\"]].head(n=10)\n",
   "outputs": [
    {
     "data": {
      "text/plain": [
       "            date_time weather_description dpe_class  option_0  option_3\n",
       "0 2024-12-27 00:00:00           clear sky         A  3.755618  3.086891\n",
       "1 2024-12-27 01:00:00           clear sky         A  3.866196  3.177779\n",
       "2 2024-12-27 02:00:00          few clouds         A  3.689272  3.032358\n",
       "3 2024-12-27 03:00:00          few clouds         A  3.723450  3.060451\n",
       "4 2024-12-27 04:00:00    scattered clouds         A  3.761650  3.091849\n",
       "5 2024-12-27 05:00:00    scattered clouds         A  4.091372  3.362861\n",
       "6 2024-12-27 06:00:00           clear sky         A  3.789797  3.114984\n",
       "7 2024-12-27 07:00:00          few clouds         A  3.781755  3.108374\n",
       "8 2024-12-27 08:00:00          few clouds         A  3.755618  4.030274\n",
       "9 2024-12-27 09:00:00          few clouds         A  3.492242  3.747637"
      ],
      "text/html": [
       "<div>\n",
       "<style scoped>\n",
       "    .dataframe tbody tr th:only-of-type {\n",
       "        vertical-align: middle;\n",
       "    }\n",
       "\n",
       "    .dataframe tbody tr th {\n",
       "        vertical-align: top;\n",
       "    }\n",
       "\n",
       "    .dataframe thead th {\n",
       "        text-align: right;\n",
       "    }\n",
       "</style>\n",
       "<table border=\"1\" class=\"dataframe\">\n",
       "  <thead>\n",
       "    <tr style=\"text-align: right;\">\n",
       "      <th></th>\n",
       "      <th>date_time</th>\n",
       "      <th>weather_description</th>\n",
       "      <th>dpe_class</th>\n",
       "      <th>option_0</th>\n",
       "      <th>option_3</th>\n",
       "    </tr>\n",
       "  </thead>\n",
       "  <tbody>\n",
       "    <tr>\n",
       "      <th>0</th>\n",
       "      <td>2024-12-27 00:00:00</td>\n",
       "      <td>clear sky</td>\n",
       "      <td>A</td>\n",
       "      <td>3.755618</td>\n",
       "      <td>3.086891</td>\n",
       "    </tr>\n",
       "    <tr>\n",
       "      <th>1</th>\n",
       "      <td>2024-12-27 01:00:00</td>\n",
       "      <td>clear sky</td>\n",
       "      <td>A</td>\n",
       "      <td>3.866196</td>\n",
       "      <td>3.177779</td>\n",
       "    </tr>\n",
       "    <tr>\n",
       "      <th>2</th>\n",
       "      <td>2024-12-27 02:00:00</td>\n",
       "      <td>few clouds</td>\n",
       "      <td>A</td>\n",
       "      <td>3.689272</td>\n",
       "      <td>3.032358</td>\n",
       "    </tr>\n",
       "    <tr>\n",
       "      <th>3</th>\n",
       "      <td>2024-12-27 03:00:00</td>\n",
       "      <td>few clouds</td>\n",
       "      <td>A</td>\n",
       "      <td>3.723450</td>\n",
       "      <td>3.060451</td>\n",
       "    </tr>\n",
       "    <tr>\n",
       "      <th>4</th>\n",
       "      <td>2024-12-27 04:00:00</td>\n",
       "      <td>scattered clouds</td>\n",
       "      <td>A</td>\n",
       "      <td>3.761650</td>\n",
       "      <td>3.091849</td>\n",
       "    </tr>\n",
       "    <tr>\n",
       "      <th>5</th>\n",
       "      <td>2024-12-27 05:00:00</td>\n",
       "      <td>scattered clouds</td>\n",
       "      <td>A</td>\n",
       "      <td>4.091372</td>\n",
       "      <td>3.362861</td>\n",
       "    </tr>\n",
       "    <tr>\n",
       "      <th>6</th>\n",
       "      <td>2024-12-27 06:00:00</td>\n",
       "      <td>clear sky</td>\n",
       "      <td>A</td>\n",
       "      <td>3.789797</td>\n",
       "      <td>3.114984</td>\n",
       "    </tr>\n",
       "    <tr>\n",
       "      <th>7</th>\n",
       "      <td>2024-12-27 07:00:00</td>\n",
       "      <td>few clouds</td>\n",
       "      <td>A</td>\n",
       "      <td>3.781755</td>\n",
       "      <td>3.108374</td>\n",
       "    </tr>\n",
       "    <tr>\n",
       "      <th>8</th>\n",
       "      <td>2024-12-27 08:00:00</td>\n",
       "      <td>few clouds</td>\n",
       "      <td>A</td>\n",
       "      <td>3.755618</td>\n",
       "      <td>4.030274</td>\n",
       "    </tr>\n",
       "    <tr>\n",
       "      <th>9</th>\n",
       "      <td>2024-12-27 09:00:00</td>\n",
       "      <td>few clouds</td>\n",
       "      <td>A</td>\n",
       "      <td>3.492242</td>\n",
       "      <td>3.747637</td>\n",
       "    </tr>\n",
       "  </tbody>\n",
       "</table>\n",
       "</div>"
      ]
     },
     "execution_count": 10,
     "metadata": {},
     "output_type": "execute_result"
    }
   ],
   "execution_count": 10
  },
  {
   "metadata": {
    "ExecuteTime": {
     "end_time": "2024-12-27T20:32:20.697225Z",
     "start_time": "2024-12-27T20:32:20.334079Z"
    }
   },
   "cell_type": "code",
   "source": [
    "plt.style.use('ggplot')\n",
    "fig, ax = plt.subplots(figsize=(12, 7), dpi=100)\n",
    "colors = sns.color_palette(\"husl\", 5)\n",
    "\n",
    "for i, option in enumerate([\"option_0\", \"option_1\", \"option_2\", \"option_3\", \"option_4\"]):\n",
    "    ax.step(new_df.date_time.dt.hour, new_df[option], where=\"post\", label=option,\n",
    "            linewidth=2, color=colors[i])\n",
    "\n",
    "ax.set_title(\"Energy Cost Over Time in Euros Per Square Meter\", fontsize=16, fontweight='bold', pad=20)\n",
    "ax.set_xlabel(\"Hour of the Day\", fontsize=12, labelpad=10)\n",
    "ax.set_ylabel(\"Energy Cost (€/m²)\", fontsize=12, labelpad=10)\n",
    "ax.set_xticks(range(0, 24, 2))\n",
    "ax.set_xlim(0, 23)\n",
    "ax.tick_params(axis='both', which='major', labelsize=10)\n",
    "ax.legend(title=\"Options\", title_fontsize='12', fontsize='10', loc='upper left', bbox_to_anchor=(1, 1))\n",
    "ax.grid(True, linestyle='--', alpha=0.7)\n",
    "\n",
    "plt.tight_layout()\n",
    "plt.show()\n"
   ],
   "outputs": [
    {
     "data": {
      "text/plain": [
       "<Figure size 1200x700 with 1 Axes>"
      ],
      "image/png": "[encoded data removed]"
     },
     "metadata": {},
     "output_type": "display_data"
    }
   ],
   "execution_count": 11
  },
  {
   "metadata": {},
   "cell_type": "markdown",
   "source": "##### _This could be an insight on how to choose your EDF energy contract based on your consumption hours._"
  },
  {
   "metadata": {
    "ExecuteTime": {
     "end_time": "2024-12-27T20:32:20.851314Z",
     "start_time": "2024-12-27T20:32:20.848202Z"
    }
   },
   "cell_type": "code",
   "source": "",
   "outputs": [],
   "execution_count": null
  }
 ],
 "metadata": {
  "kernelspec": {
   "display_name": "Python 3 (ipykernel)",
   "language": "python",
   "name": "python3"
  },
  "language_info": {
   "codemirror_mode": {
    "name": "ipython",
    "version": 3
   },
   "file_extension": ".py",
   "mimetype": "text/x-python",
   "name": "python",
   "nbconvert_exporter": "python",
   "pygments_lexer": "ipython3",
   "version": "3.12.7"
  }
 },
 "nbformat": 4,
 "nbformat_minor": 4
}
