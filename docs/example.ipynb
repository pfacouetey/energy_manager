{
 "cells": [
  {
   "metadata": {},
   "cell_type": "markdown",
   "source": [
    "# Example\n",
    "\n",
    "There are some steps on how to use `energy_manager` in any project:"
   ]
  },
  {
   "metadata": {},
   "cell_type": "markdown",
   "source": "## 1. Installation"
  },
  {
   "metadata": {},
   "cell_type": "code",
   "outputs": [],
   "execution_count": null,
   "source": "#%pip install energy_manager\n"
  },
  {
   "metadata": {},
   "cell_type": "code",
   "outputs": [],
   "execution_count": null,
   "source": ""
  },
  {
   "metadata": {},
   "cell_type": "markdown",
   "source": "## 2. Imports"
  },
  {
   "metadata": {},
   "cell_type": "code",
   "outputs": [],
   "execution_count": null,
   "source": [
    "import os\n",
    "import seaborn as sns\n",
    "import matplotlib.pyplot as plt\n",
    "from energy_manager.classes.energy_manager import EnergyManager\n"
   ]
  },
  {
   "metadata": {},
   "cell_type": "code",
   "outputs": [],
   "execution_count": null,
   "source": ""
  },
  {
   "metadata": {},
   "cell_type": "markdown",
   "source": "## 3. Explore the class EnergyManager"
  },
  {
   "metadata": {},
   "cell_type": "code",
   "outputs": [],
   "execution_count": null,
   "source": "help(EnergyManager)\n"
  },
  {
   "metadata": {},
   "cell_type": "code",
   "outputs": [],
   "execution_count": null,
   "source": ""
  },
  {
   "metadata": {},
   "cell_type": "markdown",
   "source": "## 2. Define mandatory parameters"
  },
  {
   "metadata": {},
   "cell_type": "code",
   "outputs": [],
   "execution_count": null,
   "source": [
    "user_city_name = \"Nangis\"\n",
    "openweathermap_api_key = os.getenv(\"OPEN_WEATHER_API_KEY\") # if you set your openweathermap api key as an environment variable\n",
    "user_temperature = 19.5\n",
    "user_dpe_usage = 1.5\n"
   ]
  },
  {
   "metadata": {},
   "cell_type": "code",
   "outputs": [],
   "execution_count": null,
   "source": ""
  },
  {
   "metadata": {},
   "cell_type": "markdown",
   "source": "## 3. Define optional parameters if you want"
  },
  {
   "metadata": {},
   "cell_type": "code",
   "outputs": [],
   "execution_count": null,
   "source": "user_insulation_factor = 1.5 # 1.0 is the default value set in the EnergyManager class\n"
  },
  {
   "metadata": {},
   "cell_type": "code",
   "outputs": [],
   "execution_count": null,
   "source": ""
  },
  {
   "metadata": {},
   "cell_type": "markdown",
   "source": "## 4. Instantiate the class EnergyManager with your set of parameters"
  },
  {
   "metadata": {},
   "cell_type": "code",
   "outputs": [],
   "execution_count": null,
   "source": [
    "my_energy_manager = EnergyManager(\n",
    "    city_name=user_city_name,\n",
    "    openweathermap_api_key=openweathermap_api_key,\n",
    "    temperature=user_temperature,\n",
    "    dpe_usage=user_dpe_usage,\n",
    "    insulation_factor=user_insulation_factor,\n",
    ")\n",
    "\n",
    "daily_expenses_df = my_energy_manager.get_daily_expenses()\n"
   ]
  },
  {
   "metadata": {},
   "cell_type": "code",
   "outputs": [],
   "execution_count": null,
   "source": ""
  },
  {
   "metadata": {},
   "cell_type": "markdown",
   "source": "## 5. Explore results of daily_expenses_df and do any manipulation you want"
  },
  {
   "metadata": {},
   "cell_type": "code",
   "outputs": [],
   "execution_count": null,
   "source": "daily_expenses_df.dtypes\n"
  },
  {
   "metadata": {},
   "cell_type": "code",
   "outputs": [],
   "execution_count": null,
   "source": "daily_expenses_df[[\"date_time\", \"weather_description\", \"building_type\", \"dpe_class\", \"option_0\", \"option_3\"]].head()\n"
  },
  {
   "metadata": {},
   "cell_type": "code",
   "outputs": [],
   "execution_count": null,
   "source": ""
  },
  {
   "metadata": {},
   "cell_type": "markdown",
   "source": "## 6. Results meaning"
  },
  {
   "metadata": {},
   "cell_type": "markdown",
   "source": "Columns option_0, option_1, ..., option_4 values are energy costs in euros per square meter."
  },
  {
   "metadata": {},
   "cell_type": "markdown",
   "source": [
    "Settings of these 5 options provided by ENEDIS for EDF consumers are such as :\n",
    "\n",
    "  - option_0 : energy price is the same at any hour of the day with a value of 25.16 euros/kwh;\n",
    "  - option_1, ..., option_4 : energy price during peak hour is 27 euros/Kwh and is 20.68 euros/Kwh during for off-peak hours.\n"
   ]
  },
  {
   "metadata": {},
   "cell_type": "markdown",
   "source": "The first row of df_daily_expenses means that for the day 2024-12-26 from 00:00:00 to 01:00:00, if your house is an \"Appartement\" and has a DPE (diagnostic de performance energetique) of class A, your estimated energy cost for the option_0 is approximately less than 3 euros per square meter for the desired temperature of 19.5 degrees Celsius."
  },
  {
   "metadata": {},
   "cell_type": "code",
   "outputs": [],
   "execution_count": null,
   "source": [
    "mask = (daily_expenses_df[\"building_type\"] == \"Appartement\") & (daily_expenses_df[\"dpe_class\"] == \"A\")\n",
    "new_df = daily_expenses_df[mask]\n"
   ]
  },
  {
   "metadata": {},
   "cell_type": "code",
   "outputs": [],
   "execution_count": null,
   "source": "new_df[[\"date_time\", \"weather_description\", \"dpe_class\", \"option_0\", \"option_3\"]].head(n=10)\n"
  },
  {
   "metadata": {},
   "cell_type": "code",
   "outputs": [],
   "execution_count": null,
   "source": [
    "plt.style.use('ggplot')\n",
    "fig, ax = plt.subplots(figsize=(12, 7), dpi=100)\n",
    "colors = sns.color_palette(\"husl\", 5)\n",
    "\n",
    "for i, option in enumerate([\"option_0\", \"option_1\", \"option_2\", \"option_3\", \"option_4\"]):\n",
    "    ax.step(new_df.date_time.dt.hour, new_df[option], where=\"post\", label=option,\n",
    "            linewidth=2, color=colors[i])\n",
    "\n",
    "ax.set_title(\"Energy Cost Over Time in Euros Per Square Meter\", fontsize=16, fontweight='bold', pad=20)\n",
    "ax.set_xlabel(\"Hour of the Day\", fontsize=12, labelpad=10)\n",
    "ax.set_ylabel(\"Energy Cost (€/m²)\", fontsize=12, labelpad=10)\n",
    "ax.set_xticks(range(0, 24, 2))\n",
    "ax.set_xlim(0, 23)\n",
    "ax.tick_params(axis='both', which='major', labelsize=10)\n",
    "ax.legend(title=\"Options\", title_fontsize='12', fontsize='10', loc='upper left', bbox_to_anchor=(1, 1))\n",
    "ax.grid(True, linestyle='--', alpha=0.7)\n",
    "\n",
    "plt.tight_layout()\n",
    "plt.show()\n"
   ]
  },
  {
   "metadata": {},
   "cell_type": "markdown",
   "source": "##### _This could be an insight on how to choose your EDF energy contract based on your consumption hours._"
  },
  {
   "metadata": {},
   "cell_type": "code",
   "outputs": [],
   "execution_count": null,
   "source": ""
  }
 ],
 "metadata": {
  "kernelspec": {
   "display_name": "Python 3 (ipykernel)",
   "language": "python",
   "name": "python3"
  },
  "language_info": {
   "codemirror_mode": {
    "name": "ipython",
    "version": 3
   },
   "file_extension": ".py",
   "mimetype": "text/x-python",
   "name": "python",
   "nbconvert_exporter": "python",
   "pygments_lexer": "ipython3",
   "version": "3.12.7"
  }
 },
 "nbformat": 4,
 "nbformat_minor": 4
}
